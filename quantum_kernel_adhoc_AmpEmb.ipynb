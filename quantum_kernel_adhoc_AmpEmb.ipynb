{
 "cells": [
  {
   "cell_type": "markdown",
   "id": "7abb89e5",
   "metadata": {},
   "source": [
    "# Amplitude embedding"
   ]
  },
  {
   "cell_type": "code",
   "execution_count": 1,
   "id": "a8c9928a",
   "metadata": {},
   "outputs": [],
   "source": [
    "import qiskit\n",
    "from qiskit import *\n",
    "from qiskit.visualization import *\n",
    "import numpy as np\n",
    "import matplotlib.pyplot as plt\n",
    "import pandas as pd\n",
    "%matplotlib inline\n",
    "\n",
    "from math import ceil, log2\n",
    "import numpy as np\n",
    "import deprecation\n",
    "from qiskit import QuantumCircuit, QuantumRegister\n",
    "from qclib.state_preparation.mottonen import initialize as mottonen\n",
    "from qclib.unitary import unitary as decompose_unitary #, cnot_count as cnots_unitary\n",
    "from qclib.isometry import decompose as decompose_isometry #, cnot_count as cnots_isometry\n",
    "\n",
    "# pylint: disable=maybe-no-member\n",
    "\n",
    "def initialize(state_vector, low_rank=0, isometry_scheme='ccd', unitary_scheme='qsd',\n",
    "                                                                        partition=None):\n",
    "    \"\"\"\n",
    "    Low-rank state preparation using Schmidt decomposition.\n",
    "    https://arxiv.org/abs/2111.03132\n",
    "    For instance, to initialize the state a|00> + b|10> (|a|^2+|b|^2=1)\n",
    "        $ state = [a, 0, b, 0]\n",
    "        $ circuit = initialize(state)\n",
    "    Parameters\n",
    "    ----------\n",
    "    state_vector: list of complex\n",
    "        A unit vector representing a quantum state.\n",
    "        Values are amplitudes.\n",
    "    low_rank: int\n",
    "        ``state`` low-rank approximation (1 <= ``low_rank`` < 2**(n_qubits//2)).\n",
    "        If ``low_rank`` is not in the valid range, it will be ignored.\n",
    "        This parameter limits the rank of the Schmidt decomposition. If the Schmidt rank\n",
    "        of the state decomposition is greater than ``low_rank``, a low-rank approximation\n",
    "        is applied.\n",
    "    isometry_scheme: string\n",
    "        Scheme used to decompose isometries.\n",
    "        Possible values are ``'knill'`` and ``'ccd'`` (column-by-column decomposition).\n",
    "        Default is ``isometry_scheme='ccd'``.\n",
    "    unitary_scheme: string\n",
    "        Scheme used to decompose unitaries.\n",
    "        Possible values are ``'csd'`` (cosine-sine decomposition) and ``'qsd'`` (quantum\n",
    "        Shannon decomposition).\n",
    "        Default is ``unitary_scheme='qsd'``.\n",
    "    partition: list of int\n",
    "        Set of qubit indices that represent a part of the bipartition.\n",
    "        The other partition will be the relative complement of the full set of qubits\n",
    "        with respect to the set ``partition``.\n",
    "        The valid range for indexes is ``0 <= index < n_qubits``. The number of indexes\n",
    "        in the partition must be greater than or equal to ``1`` and less than or equal\n",
    "        to ``n_qubits//2`` (``n_qubits//2+1`` if ``n_qubits`` is odd).\n",
    "        Default is ``partition=list(range(n_qubits//2 + odd))``.\n",
    "    Returns\n",
    "    -------\n",
    "    circuit: QuantumCircuit\n",
    "        QuantumCircuit to initialize the state.\n",
    "    \"\"\"\n",
    "\n",
    "    n_qubits = _to_qubits(len(state_vector))\n",
    "    if n_qubits < 2:\n",
    "        return mottonen(state_vector)\n",
    "\n",
    "    circuit, reg_a, reg_b = _create_quantum_circuit(state_vector, partition)\n",
    "\n",
    "    # Schmidt decomposition\n",
    "    svd_u, singular_values, svd_v = schmidt_decomposition(state_vector, reg_a)\n",
    "\n",
    "    rank, svd_u, svd_v, singular_values = \\\n",
    "        low_rank_approximation(low_rank, svd_u, svd_v, singular_values)\n",
    "\n",
    "    # Schmidt measure of entanglement\n",
    "    ebits = _to_qubits(rank)\n",
    "\n",
    "    # Phase 1. Encodes the singular values.\n",
    "    if ebits > 0:\n",
    "        reg_sv = reg_b[:ebits]\n",
    "        singular_values = singular_values / np.linalg.norm(singular_values)\n",
    "        _encode(singular_values.reshape(rank, 1), circuit, reg_sv,\n",
    "                                            isometry_scheme, unitary_scheme)\n",
    "\n",
    "    # Phase 2. Entangles only the necessary qubits, according to rank.\n",
    "    for j in range(ebits):\n",
    "        circuit.cx(reg_b[j], reg_a[j])\n",
    "\n",
    "    # Phase 3 and 4 encode gates U and V.T\n",
    "    _encode(svd_u, circuit, reg_b, isometry_scheme, unitary_scheme)\n",
    "    _encode(svd_v.T, circuit, reg_a, isometry_scheme, unitary_scheme)\n",
    "\n",
    "    return circuit.reverse_bits()\n",
    "\n",
    "\n",
    "\n",
    "# Schmidt routines\n",
    "\n",
    "\n",
    "\n",
    "def schmidt_decomposition(state_vector, partition):\n",
    "    \"\"\"\n",
    "    Execute the Schmidt decomposition of a state vector.\n",
    "    Parameters\n",
    "    ----------\n",
    "    state_vector: list of complex\n",
    "        A unit vector representing a quantum state.\n",
    "        Values are amplitudes.\n",
    "    partition: list of int\n",
    "        Set of qubit indices that represent a part of the bipartition.\n",
    "        The other partition will be the relative complement of the full set of qubits\n",
    "        with respect to the set ``partition``.\n",
    "        The valid range for indexes is ``0 <= index < n_qubits``. The number of indexes\n",
    "        in the partition must be greater than or equal to ``1`` and less than or equal\n",
    "        to ``n_qubits//2`` (``n_qubits//2+1`` if ``n_qubits`` is odd).\n",
    "    \"\"\"\n",
    "\n",
    "    n_qubits = _to_qubits(len(state_vector))\n",
    "\n",
    "    sep_matrix = _separation_matrix(n_qubits, state_vector, partition)\n",
    "\n",
    "    return np.linalg.svd(sep_matrix)\n",
    "\n",
    "def schmidt_composition(svd_u, svd_v, singular_values, partition):\n",
    "    \"\"\"\n",
    "    Execute the Schmidt composition of a state vector.\n",
    "    The inverse of the Schmidt decomposition.\n",
    "    Returns\n",
    "    -------\n",
    "    state_vector: list of complex\n",
    "        A unit vector representing a quantum state.\n",
    "        Values are amplitudes.\n",
    "    \"\"\"\n",
    "\n",
    "    n_qubits = _to_qubits(svd_u.shape[0]) + _to_qubits(svd_v.shape[1])\n",
    "\n",
    "    #sep_matrix = svd_u @ np.diag(singular_values) @ svd_v\n",
    "    sep_matrix = (svd_u * singular_values) @ svd_v\n",
    "\n",
    "    state_vector = _undo_separation_matrix(n_qubits, sep_matrix, partition)\n",
    "\n",
    "    return state_vector\n",
    "\n",
    "def low_rank_approximation(low_rank, svd_u, svd_v, singular_values, rank_power_of_2=True):\n",
    "    \"\"\"\n",
    "    Low-rank approximation from the SVD.\n",
    "    \"\"\"\n",
    "    rank = singular_values.shape[0] # max rank\n",
    "\n",
    "    effective_rank = _effective_rank(singular_values)\n",
    "\n",
    "    if 0 < low_rank < rank or effective_rank < rank:\n",
    "        if 0 < low_rank < effective_rank:\n",
    "            effective_rank = low_rank\n",
    "\n",
    "        if rank_power_of_2:\n",
    "            # To use isometries, the rank needs to be a power of 2.\n",
    "            rank = int(2**ceil(log2(effective_rank)))\n",
    "        else:\n",
    "            rank = effective_rank\n",
    "\n",
    "        svd_u = svd_u[:,:rank]\n",
    "        svd_v = svd_v[:rank,:]\n",
    "        singular_values = singular_values[:rank]\n",
    "\n",
    "    return rank, svd_u, svd_v, singular_values\n",
    "\n",
    "def _separation_matrix(n_qubits, state_vector, partition):\n",
    "    new_shape = (2 ** (n_qubits-len(partition)), 2 ** len(partition))\n",
    "\n",
    "    qubit_shape = tuple([2] * n_qubits)\n",
    "    # We need to swap qubits from their subsystem2 position to the end of the\n",
    "    # mode as we expect that we do LSB to be on the left-most side.\n",
    "    from_move = sorted(partition)\n",
    "    to_move = (n_qubits - np.arange(1, len(partition) + 1))[::-1]\n",
    "\n",
    "    sep_matrix = \\\n",
    "        np.moveaxis(np.array(state_vector).reshape(qubit_shape),\n",
    "                                            from_move, to_move).reshape(new_shape)\n",
    "    return sep_matrix\n",
    "\n",
    "def _undo_separation_matrix(n_qubits, sep_matrix, partition):\n",
    "    new_shape = (2 ** n_qubits, )\n",
    "\n",
    "    qubit_shape = tuple([2] * n_qubits)\n",
    "\n",
    "    to_move = sorted(partition)\n",
    "    from_move = (n_qubits - np.arange(1, len(partition) + 1))[::-1]\n",
    "\n",
    "    state_vector = \\\n",
    "        np.moveaxis(np.array(sep_matrix).reshape(qubit_shape),\n",
    "                                            from_move, to_move).reshape(new_shape)\n",
    "    return state_vector\n",
    "\n",
    "def _effective_rank(singular_values):\n",
    "    return sum(j > 10**-7 for j in singular_values)\n",
    "\n",
    "\n",
    "\n",
    "# Auxiliary functions\n",
    "\n",
    "\n",
    "\n",
    "def _to_qubits(n_state_vector):\n",
    "    return int(log2(n_state_vector))\n",
    "\n",
    "def _default_partition(n_qubits):\n",
    "    odd = n_qubits % 2\n",
    "    return list(range(n_qubits//2 + odd))\n",
    "\n",
    "def _create_quantum_circuit(state_vector, partition):\n",
    "    n_qubits = _to_qubits(len(state_vector))\n",
    "    if partition is None:\n",
    "        partition = _default_partition(n_qubits)\n",
    "\n",
    "    complement = list(set(range(n_qubits)).difference(set(partition)))\n",
    "\n",
    "    circuit = QuantumCircuit(n_qubits)\n",
    "\n",
    "    return circuit, partition[::-1], complement[::-1]\n",
    "\n",
    "def _encode(data, circuit, reg, iso_scheme='ccd', uni_scheme='qsd'):\n",
    "    \"\"\"\n",
    "    Encodes data using the most appropriate method.\n",
    "    \"\"\"\n",
    "    n_qubits = len(reg)\n",
    "    rank = 0\n",
    "    if data.shape[1] == 1:\n",
    "        partition = _default_partition(n_qubits)\n",
    "        _, svals, _ = schmidt_decomposition(data[:, 0], partition)\n",
    "        rank = _effective_rank(svals)\n",
    "\n",
    "    if data.shape[1] == 1 and (n_qubits % 2 == 0 or n_qubits < 4 or rank==1):\n",
    "        # state preparation\n",
    "        gate_u = initialize(data[:, 0], isometry_scheme=iso_scheme,\n",
    "                                            unitary_scheme=uni_scheme)\n",
    "    elif data.shape[0] > data.shape[1]:\n",
    "        gate_u = decompose_isometry(data, scheme=iso_scheme)\n",
    "    else:\n",
    "        gate_u = decompose_unitary(data, decomposition=uni_scheme)\n",
    "\n",
    "    # Apply gate U to the register reg\n",
    "    circuit.compose(gate_u, reg, inplace=True)\n",
    "\n",
    "\n",
    "\n",
    "# CNOT count\n",
    "\n",
    "\n",
    "\n",
    "def cnot_count(state_vector, low_rank=0, isometry_scheme='ccd', unitary_scheme='qsd',\n",
    "                                                        partition=None, method='estimate'):\n",
    "    \"\"\"\n",
    "    Estimate the number of CNOTs to build the state preparation circuit.\n",
    "    \"\"\"\n",
    "\n",
    "    n_qubits = _to_qubits(len(state_vector))\n",
    "    if n_qubits < 2:\n",
    "        return 0\n",
    "\n",
    "    if partition is None:\n",
    "        partition = _default_partition(n_qubits)\n",
    "\n",
    "    cnots = 0\n",
    "\n",
    "    # Schmidt decomposition\n",
    "    svd_u, singular_values, svd_v = schmidt_decomposition(state_vector, partition)\n",
    "\n",
    "    rank, svd_u, svd_v, singular_values = \\\n",
    "        low_rank_approximation(low_rank, svd_u, svd_v, singular_values)\n",
    "\n",
    "    # Schmidt measure of entanglement\n",
    "    ebits =  _to_qubits(rank)\n",
    "\n",
    "    # Phase 1.\n",
    "    if ebits > 0:\n",
    "        singular_values = singular_values / np.linalg.norm(singular_values)\n",
    "        cnots += _cnots(singular_values.reshape(rank, 1), isometry_scheme,\n",
    "                                                          unitary_scheme, method)\n",
    "    # Phase 2.\n",
    "    cnots += ebits\n",
    "\n",
    "    # Phases 3 and 4.\n",
    "    cnots += _cnots(svd_u, isometry_scheme, unitary_scheme, method)\n",
    "    cnots += _cnots(svd_v.T, isometry_scheme, unitary_scheme, method)\n",
    "\n",
    "    return cnots\n",
    "\n",
    "def _cnots(data, iso_scheme='ccd', uni_scheme='qsd', method='estimate'):\n",
    "    n_qubits = _to_qubits(data.shape[0])\n",
    "\n",
    "    rank = 0\n",
    "    if data.shape[1] == 1:\n",
    "        partition = _default_partition(n_qubits)\n",
    "        _, svals, _ = schmidt_decomposition(data[:, 0], partition)\n",
    "        rank = _effective_rank(svals)\n",
    "\n",
    "    if data.shape[1] == 1 and (n_qubits % 2 == 0 or n_qubits < 4 or rank==1):\n",
    "        return cnot_count(data[:, 0], isometry_scheme=iso_scheme,\n",
    "                                       unitary_scheme=uni_scheme, method=method)\n",
    "    if data.shape[0] > data.shape[1]:\n",
    "        return cnots_isometry(data, scheme=iso_scheme, method=method)\n",
    "\n",
    "    return cnots_unitary(data, decomposition=uni_scheme, method=method)\n",
    "\n",
    "\n",
    "\n",
    "# Deprecated\n",
    "\n",
    "\n",
    "\n",
    "@deprecation.deprecated(deprecated_in=\"0.0.7\",\n",
    "                        details=\"Use the initialize function instead\")\n",
    "def initialize_original(state_vector):\n",
    "    \"\"\" State preparation using Schmidt decomposition arXiv:1003.5760.\n",
    "        This function implements the original algorithm as defined in arXiv:1003.5760.\n",
    "        It is kept here for didactic reasons.\n",
    "        The ``initialize`` function should preferably be used.\n",
    "    For instance, to initialize the state a|0> + b|1>\n",
    "        $ state = [a, b]\n",
    "        $ circuit = initialize_original(state)\n",
    "    Parameters\n",
    "    ----------\n",
    "    state_vector: list of int\n",
    "        A unit vector representing a quantum state.\n",
    "        Values are amplitudes.\n",
    "    Returns\n",
    "    -------\n",
    "    circuit: QuantumCircuit\n",
    "        QuantumCircuit to initialize the state.\n",
    "    \"\"\"\n",
    "\n",
    "    state = np.copy(state_vector)\n",
    "\n",
    "    size = len(state)\n",
    "    n_qubits = _to_qubits(size)\n",
    "\n",
    "    odd = n_qubits % 2\n",
    "\n",
    "    state.shape = (int(2**(n_qubits//2)), int(2**(n_qubits//2 + odd)))\n",
    "\n",
    "    svd_u, singular_values, svd_v = np.linalg.svd(state)\n",
    "\n",
    "    singular_values = singular_values / np.linalg.norm(singular_values)\n",
    "\n",
    "    reg_a = QuantumRegister(n_qubits//2 + odd)\n",
    "    reg_b = QuantumRegister(n_qubits//2)\n",
    "\n",
    "    circuit = QuantumCircuit(reg_a, reg_b)\n",
    "\n",
    "    if len(singular_values) > 2:\n",
    "        circ = initialize_original(singular_values)\n",
    "    else:\n",
    "        circ = mottonen(singular_values)\n",
    "    circuit.compose(circ, reg_b, inplace=True)\n",
    "\n",
    "    for k in range(int(n_qubits//2)):\n",
    "        circuit.cx(reg_b[k], reg_a[k])\n",
    "\n",
    "    gate_u = decompose_unitary(svd_u, 'qsd')\n",
    "    gate_v = decompose_unitary(svd_v.T, 'qsd')\n",
    "\n",
    "    circuit.compose(gate_u, reg_b, inplace=True) # apply gate U to the first register\n",
    "    circuit.compose(gate_v, reg_a, inplace=True) # apply gate V to the second register\n",
    "\n",
    "    return circuit"
   ]
  },
  {
   "cell_type": "markdown",
   "id": "72caa9fc",
   "metadata": {},
   "source": [
    "## testing amplitude embedding"
   ]
  },
  {
   "cell_type": "code",
   "execution_count": 2,
   "id": "71f8ed0f",
   "metadata": {
    "scrolled": false
   },
   "outputs": [
    {
     "data": {
      "image/png": "[encoded data removed]",
      "text/plain": [
       "<Figure size 504x360 with 1 Axes>"
      ]
     },
     "execution_count": 2,
     "metadata": {},
     "output_type": "execute_result"
    },
    {
     "data": {
      "image/png": "[encoded data removed]",
      "text/plain": [
       "<Figure size 504x360 with 1 Axes>"
      ]
     },
     "metadata": {
      "needs_background": "light"
     },
     "output_type": "display_data"
    }
   ],
   "source": [
    "simulator = BasicAer.get_backend('qasm_simulator')\n",
    "qc=QuantumCircuit(1,1)\n",
    "state_prep = initialize(state_vector=[np.sqrt(0.2),np.sqrt(0.8)], low_rank=0, isometry_scheme='ccd', unitary_scheme='qsd',\n",
    "                                                                        partition=None)\n",
    "qc = qc.compose(state_prep)\n",
    "qc.measure(0,0)\n",
    "counts = execute(qc, backend=simulator, shots=1000).result().get_counts(qc)\n",
    "\n",
    "plot_histogram(counts)"
   ]
  },
  {
   "cell_type": "markdown",
   "id": "95fe4d4c",
   "metadata": {},
   "source": [
    "## ad-hoc data"
   ]
  },
  {
   "cell_type": "code",
   "execution_count": 3,
   "id": "b924581c",
   "metadata": {},
   "outputs": [],
   "source": [
    "from qiskit_machine_learning.datasets import ad_hoc_data"
   ]
  },
  {
   "cell_type": "code",
   "execution_count": 4,
   "id": "9742090f",
   "metadata": {},
   "outputs": [],
   "source": [
    "adhoc_dimension = 2\n",
    "train_features, train_labels, test_features, test_labels, adhoc_total = ad_hoc_data(\n",
    "    training_size=20,\n",
    "    test_size=5,\n",
    "    n=adhoc_dimension,\n",
    "    gap=0.3,\n",
    "    plot_data=False, one_hot=False, include_sample_total=True\n",
    ")"
   ]
  },
  {
   "cell_type": "code",
   "execution_count": 5,
   "id": "a6ba4cf1",
   "metadata": {
    "scrolled": false
   },
   "outputs": [
    {
     "data": {
      "text/plain": [
       "(array([[0.06283185, 5.71769863],\n",
       "        [1.31946891, 5.34070751],\n",
       "        [3.76991118, 4.58672527],\n",
       "        [5.27787566, 5.78053048],\n",
       "        [5.15221195, 2.70176968],\n",
       "        [3.51858377, 5.65486678],\n",
       "        [2.89026524, 0.75398224],\n",
       "        [4.0212386 , 5.40353936],\n",
       "        [2.19911486, 3.76991118],\n",
       "        [3.83274304, 5.90619419],\n",
       "        [0.18849556, 2.82743339],\n",
       "        [0.50265482, 2.70176968],\n",
       "        [5.78053048, 3.39292007],\n",
       "        [6.1575216 , 5.65486678],\n",
       "        [3.58141563, 5.15221195],\n",
       "        [3.45575192, 1.69646003],\n",
       "        [4.71238898, 4.58672527],\n",
       "        [0.56548668, 5.34070751],\n",
       "        [5.78053048, 6.03185789],\n",
       "        [0.62831853, 6.09468975],\n",
       "        [1.0681415 , 4.1469023 ],\n",
       "        [5.52920307, 1.13097336],\n",
       "        [5.59203492, 0.62831853],\n",
       "        [0.87964594, 5.96902604],\n",
       "        [1.57079633, 3.95840674],\n",
       "        [1.0681415 , 1.0681415 ],\n",
       "        [1.88495559, 2.38761042],\n",
       "        [4.33539786, 2.82743339],\n",
       "        [0.9424778 , 0.31415927],\n",
       "        [1.0681415 , 6.22035345],\n",
       "        [5.96902604, 0.87964594],\n",
       "        [2.136283  , 4.83805269],\n",
       "        [5.52920307, 5.0893801 ],\n",
       "        [2.89026524, 2.07345115],\n",
       "        [1.44513262, 2.26194671],\n",
       "        [4.46106157, 0.31415927],\n",
       "        [5.15221195, 5.40353936],\n",
       "        [4.1469023 , 3.39292007],\n",
       "        [0.18849556, 2.26194671],\n",
       "        [0.56548668, 0.50265482]]),\n",
       " array([[4.96371639, 1.13097336],\n",
       "        [5.59203492, 3.95840674],\n",
       "        [5.34070751, 4.58672527],\n",
       "        [5.0893801 , 4.58672527],\n",
       "        [1.88495559, 3.83274304],\n",
       "        [0.9424778 , 0.9424778 ],\n",
       "        [4.77522083, 0.43982297],\n",
       "        [2.0106193 , 1.94778745],\n",
       "        [5.90619419, 5.2150438 ],\n",
       "        [1.25663706, 2.38761042]]))"
      ]
     },
     "execution_count": 5,
     "metadata": {},
     "output_type": "execute_result"
    }
   ],
   "source": [
    "train_features, test_features"
   ]
  },
  {
   "cell_type": "markdown",
   "id": "15d58668",
   "metadata": {},
   "source": [
    "## Variational Circuit: Hardware-efficient ansatz"
   ]
  },
  {
   "cell_type": "code",
   "execution_count": 6,
   "id": "4fbd373c",
   "metadata": {},
   "outputs": [],
   "source": [
    "num_layers=3\n",
    "def variational_circuit(x, param, num_layers):\n",
    "    #qc=QuantumCircuit(len(x), 1)\n",
    "    #num_qubits=len(x)\n",
    "    \n",
    "    qc=QuantumCircuit(1,1)\n",
    "    #qc.h(0)\n",
    "    state_prep = initialize(state_vector=[complex(np.cos(x[0]/2)/np.sqrt(2), np.sin(x[0]/2)/np.sqrt(2)),\n",
    "                                          complex(np.cos(x[1]/2)/np.sqrt(2), np.sin(x[1]/2)/np.sqrt(2))],\n",
    "                            low_rank=0, \n",
    "                            isometry_scheme='ccd', \n",
    "                            unitary_scheme='qsd',\n",
    "                            partition=None)\n",
    "    qc = qc.compose(state_prep)\n",
    "    \n",
    "    \"\"\"\n",
    "    qc.h(range(len(x)))\n",
    "    # ZZPauli Feature map    \n",
    "    for k in range(len(x)):\n",
    "        qc.rz(2*x[k],k)\n",
    "    for i in range(len(x)-1):\n",
    "        for j in range(len(x)):\n",
    "            if(i<j):\n",
    "                qc.cx(i,j)\n",
    "                qc.rz(2*(np.pi - x[i])*(np.pi - x[j]), j)\n",
    "                qc.cx(i, j)\n",
    "                qc.barrier()\n",
    "    \"\"\"\n",
    "    ###START LINEAR ENTANGLEMENT###\n",
    "    \"\"\"\n",
    "    for k in range(num_layers):\n",
    "        for j in range(len(x)):\n",
    "            qc.ry(param[j + k*len(x)], j)\n",
    "        for i in range(len(x)-1):\n",
    "            qc.cx(i, i+1)\n",
    "    \"\"\"  \n",
    "    for k in range(num_layers):        \n",
    "        qc.ry(param[0 + k*2],0)\n",
    "        qc.rx(param[1 + k*2],0)\n",
    "        #qc.rz(param[2 + k*3],0)\n",
    "    qc.barrier()\n",
    "    \n",
    "    \n",
    "    ###END LINEAR ENTANGLEMENT###\n",
    "    \n",
    "    ###MEASUREMENT###\n",
    "    qc.measure(0,0)\n",
    "    return qc"
   ]
  },
  {
   "cell_type": "code",
   "execution_count": 7,
   "id": "1bbad7c2",
   "metadata": {
    "scrolled": true
   },
   "outputs": [
    {
     "data": {
      "text/html": [
       "<pre style=\"word-wrap: normal;white-space: pre;background: #fff0;line-height: 1.1;font-family: &quot;Courier New&quot;,Courier,monospace\">global phase: 0.91106\n",
       "     ┌───────────┐┌───────────────┐┌───────┐┌───────┐┌───────┐┌───────┐┌───────┐┌───────┐ ░ ┌─┐\n",
       "q_0: ┤ UCRY(π/2) ├┤ UCRZ(-1.0681) ├┤ RY(0) ├┤ RX(0) ├┤ RY(0) ├┤ RX(0) ├┤ RY(0) ├┤ RX(0) ├─░─┤M├\n",
       "     └───────────┘└───────────────┘└───────┘└───────┘└───────┘└───────┘└───────┘└───────┘ ░ └╥┘\n",
       "c: 1/════════════════════════════════════════════════════════════════════════════════════════╩═\n",
       "                                                                                             0 </pre>"
      ],
      "text/plain": [
       "global phase: 0.91106\n",
       "     ┌───────────┐┌───────────────┐┌───────┐┌───────┐┌───────┐┌───────┐┌───────┐┌───────┐ ░ ┌─┐\n",
       "q_0: ┤ UCRY(π/2) ├┤ UCRZ(-1.0681) ├┤ RY(0) ├┤ RX(0) ├┤ RY(0) ├┤ RX(0) ├┤ RY(0) ├┤ RX(0) ├─░─┤M├\n",
       "     └───────────┘└───────────────┘└───────┘└───────┘└───────┘└───────┘└───────┘└───────┘ ░ └╥┘\n",
       "c: 1/════════════════════════════════════════════════════════════════════════════════════════╩═\n",
       "                                                                                             0 "
      ]
     },
     "execution_count": 7,
     "metadata": {},
     "output_type": "execute_result"
    }
   ],
   "source": [
    "num_params=2*num_layers\n",
    "variational_circuit(train_features[6], np.zeros(num_params), num_layers).draw(fold=-1)"
   ]
  },
  {
   "cell_type": "markdown",
   "id": "a24ae99d",
   "metadata": {},
   "source": [
    "## Loss Function: Mean squared error (MSE)\n",
    "\n",
    "$$L\\left(x^*, l^*\\right) = \\frac{1}{n}\\sum_{i}^{} \\left(\\langle p \\rangle_{x_i} - l_i\\right)^2$$\n",
    "\n",
    "where $p$ is a parity function which was chose as $Z_0Z_1$."
   ]
  },
  {
   "cell_type": "code",
   "execution_count": 8,
   "id": "b5a2cd18",
   "metadata": {},
   "outputs": [],
   "source": [
    "backend = Aer.get_backend('statevector_simulator')\n",
    "def loss_function(param):\n",
    "    simulator = BasicAer.get_backend('qasm_simulator')\n",
    "    #num_qubits=len(train_features[0])    \n",
    "    zz_terms=[]\n",
    "    for i in range(len(train_features)):\n",
    "        circ=variational_circuit(train_features[i], param, num_layers=num_layers)\n",
    "        \n",
    "        counts=execute(circ, backend=simulator, shots=100).result().get_counts(circ)\n",
    "        \n",
    "        if '0' not in counts:\n",
    "            counts['0']=0            \n",
    "        if '1' not in counts:\n",
    "            counts['1']=0            \n",
    "        \n",
    "        total_counts = counts['0'] + counts['1']\n",
    "        \n",
    "        #PARITY FUNCTION <Z>\n",
    "        zz = (counts['0'] - counts['1'])/total_counts\n",
    "        zz_terms.append(zz)\n",
    "    loss=0\n",
    "    #Mean squared error MSE\n",
    "    for i in range(len(zz_terms)):\n",
    "        if(train_labels[i]==1):\n",
    "            loss = loss + (zz_terms[i] - 1)**2\n",
    "        elif(train_labels[i]==0):\n",
    "            loss = loss + (zz_terms[i] + 1)**2\n",
    "    \n",
    "    return loss/len(zz_terms)\n",
    "        "
   ]
  },
  {
   "cell_type": "code",
   "execution_count": 9,
   "id": "016e9fcf",
   "metadata": {},
   "outputs": [
    {
     "data": {
      "text/plain": [
       "array([0, 0, 0, 0, 0, 1, 1, 1, 1, 1])"
      ]
     },
     "execution_count": 9,
     "metadata": {},
     "output_type": "execute_result"
    }
   ],
   "source": [
    "test_labels"
   ]
  },
  {
   "cell_type": "code",
   "execution_count": 19,
   "id": "27d6f873",
   "metadata": {},
   "outputs": [
    {
     "data": {
      "text/plain": [
       "1.0197100000000001"
      ]
     },
     "execution_count": 19,
     "metadata": {},
     "output_type": "execute_result"
    }
   ],
   "source": [
    "np.random.seed(133)\n",
    "guess = np.random.random(num_params)\n",
    "loss_function(np.zeros(num_params))"
   ]
  },
  {
   "cell_type": "markdown",
   "id": "49ecb04f",
   "metadata": {},
   "source": [
    "## Training circuit"
   ]
  },
  {
   "cell_type": "code",
   "execution_count": 29,
   "id": "42d2da37",
   "metadata": {
    "scrolled": true
   },
   "outputs": [
    {
     "name": "stdout",
     "output_type": "stream",
     "text": [
      "iter:  0 energy:  1.4856700000000003\n"
     ]
    }
   ],
   "source": [
    "from qiskit.aqua.components.optimizers import COBYLA,SLSQP,SPSA\n",
    "from qiskit.algorithms.optimizers import COBYLA, ADAM\n",
    "\"\"\"\n",
    "conv=[]\n",
    "for i in range(30):\n",
    "#np.random.seed(i)\n",
    "#guess = np.random.random(num_params)\n",
    "    optimizer = SPSA(2*i)\n",
    "    ret = optimizer.optimize(num_vars=num_params, objective_function=loss_function, initial_point=guess)\n",
    "    print(\"iterations: \",i*4, \"<zz>min = \", ret[1])\n",
    "    conv.append(ret[1])\n",
    "\n",
    "\"\"\"\n",
    "best_params = []\n",
    "for i in range(1):\n",
    "    np.random.seed(133*i)\n",
    "    guess = np.random.random(num_params)\n",
    "    optimizer = ADAM(maxiter=100, tol=1e-06, lr=0.05, beta_1=0.9, beta_2=0.99, noise_factor=1e-08, eps=1e-10, amsgrad=False, snapshot_dir=None)\n",
    "    ret = optimizer.optimize(num_vars=num_params, objective_function=loss_function, initial_point=guess)\n",
    "    best_params.append(ret[0])\n",
    "    print(\"iter: \", i, \"energy: \", ret[1])\n"
   ]
  },
  {
   "cell_type": "code",
   "execution_count": 30,
   "id": "ec8d215c",
   "metadata": {
    "scrolled": true
   },
   "outputs": [],
   "source": [
    "#plt.plot(range(len(conv)),conv)"
   ]
  },
  {
   "cell_type": "code",
   "execution_count": 31,
   "id": "fdee2473",
   "metadata": {},
   "outputs": [
    {
     "data": {
      "text/plain": [
       "1.4856700000000003"
      ]
     },
     "execution_count": 31,
     "metadata": {},
     "output_type": "execute_result"
    }
   ],
   "source": [
    "ret[1]"
   ]
  },
  {
   "cell_type": "code",
   "execution_count": 32,
   "id": "bd109992",
   "metadata": {
    "scrolled": false
   },
   "outputs": [
    {
     "data": {
      "text/plain": [
       "array([0.74884139, 0.57349677, 1.06558587, 0.93329712, 0.41343121,\n",
       "       0.70838461])"
      ]
     },
     "execution_count": 32,
     "metadata": {},
     "output_type": "execute_result"
    }
   ],
   "source": [
    "ret[0]"
   ]
  },
  {
   "cell_type": "code",
   "execution_count": 33,
   "id": "d378a085",
   "metadata": {},
   "outputs": [
    {
     "data": {
      "text/plain": [
       "array([0, 0, 0, 0, 0, 1, 1, 1, 1, 1])"
      ]
     },
     "execution_count": 33,
     "metadata": {},
     "output_type": "execute_result"
    }
   ],
   "source": [
    "test_labels"
   ]
  },
  {
   "cell_type": "code",
   "execution_count": 34,
   "id": "f4d252d0",
   "metadata": {
    "scrolled": true
   },
   "outputs": [
    {
     "data": {
      "image/png": "[encoded data removed]",
      "text/plain": [
       "<Figure size 504x360 with 1 Axes>"
      ]
     },
     "execution_count": 34,
     "metadata": {},
     "output_type": "execute_result"
    },
    {
     "data": {
      "image/png": "[encoded data removed]",
      "text/plain": [
       "<Figure size 504x360 with 1 Axes>"
      ]
     },
     "metadata": {
      "needs_background": "light"
     },
     "output_type": "display_data"
    }
   ],
   "source": [
    "# testing a point\n",
    "simulator = BasicAer.get_backend('qasm_simulator')\n",
    "circ=variational_circuit(test_features[1], ret[0], num_layers=num_layers)\n",
    "counts=execute(circ, backend=simulator, shots=100).result().get_counts(circ)\n",
    "plot_histogram(counts)"
   ]
  },
  {
   "cell_type": "markdown",
   "id": "a9a46195",
   "metadata": {},
   "source": [
    "## Testing"
   ]
  },
  {
   "cell_type": "code",
   "execution_count": 35,
   "id": "910482eb",
   "metadata": {},
   "outputs": [],
   "source": [
    "def test(test_data, opt_params):\n",
    "    simulator = BasicAer.get_backend('qasm_simulator')\n",
    "    circ=variational_circuit(test_data, opt_params, num_layers=num_layers)\n",
    "    counts=execute(circ, backend=simulator, shots=100).result().get_counts(circ)\n",
    "\n",
    "    if '0' not in counts:\n",
    "        counts['0']=0            \n",
    "    if '1' not in counts:\n",
    "        counts['1']=0            \n",
    "\n",
    "    total_counts = counts['0'] + counts['1']\n",
    "    #PARITY FUNCTION Z1Z2\n",
    "    zz = (counts['0'] - counts['1'])/total_counts        \n",
    "    \n",
    "    return zz\n",
    "        "
   ]
  },
  {
   "cell_type": "code",
   "execution_count": 36,
   "id": "ba673c29",
   "metadata": {},
   "outputs": [
    {
     "name": "stdout",
     "output_type": "stream",
     "text": [
      "result:  -0.82    test class:  0\n",
      "result:  0.06    test class:  0\n",
      "result:  0.08    test class:  0\n",
      "result:  0.48    test class:  0\n",
      "result:  0.84    test class:  0\n",
      "result:  0.52    test class:  1\n",
      "result:  -0.8    test class:  1\n",
      "result:  0.42    test class:  1\n",
      "result:  0.26    test class:  1\n",
      "result:  0.76    test class:  1\n",
      "0 0\n",
      "0 1\n",
      "0 1\n",
      "0 1\n",
      "0 1\n",
      "1 1\n",
      "1 0\n",
      "1 1\n",
      "1 1\n",
      "1 1\n",
      "SUCCESS RATE  :  50.0 %\n"
     ]
    }
   ],
   "source": [
    "\n",
    "test_result=[]\n",
    "label0=[]\n",
    "label1=[]\n",
    "for i in range(len(test_labels)):\n",
    "    res=test(test_features[i], best_params[0])\n",
    "    print('result: ', res, '   test class: ',test_labels[i])\n",
    "    if(res>0):\n",
    "        test_result.append(1)\n",
    "        label1.append(res)\n",
    "    elif(res<0):\n",
    "        test_result.append(0)\n",
    "        label0.append(res)\n",
    "\n",
    "matching=0        \n",
    "for k in range(len(test_labels)):\n",
    "    print(test_labels[k],test_result[k])\n",
    "    if(test_labels[k]==test_result[k]):\n",
    "        matching += 1\n",
    "print('SUCCESS RATE  : ', matching/len(test_result)*100,'%')\n",
    "        "
   ]
  },
  {
   "cell_type": "code",
   "execution_count": null,
   "id": "45f2a25f",
   "metadata": {},
   "outputs": [],
   "source": []
  },
  {
   "cell_type": "code",
   "execution_count": null,
   "id": "9b70bf6d",
   "metadata": {},
   "outputs": [],
   "source": []
  }
 ],
 "metadata": {
  "kernelspec": {
   "display_name": "Python 3",
   "language": "python",
   "name": "python3"
  },
  "language_info": {
   "codemirror_mode": {
    "name": "ipython",
    "version": 3
   },
   "file_extension": ".py",
   "mimetype": "text/x-python",
   "name": "python",
   "nbconvert_exporter": "python",
   "pygments_lexer": "ipython3",
   "version": "3.8.8"
  }
 },
 "nbformat": 4,
 "nbformat_minor": 5
}
